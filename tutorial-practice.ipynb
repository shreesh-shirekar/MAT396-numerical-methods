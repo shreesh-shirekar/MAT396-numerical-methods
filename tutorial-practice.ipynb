{
 "cells": [
  {
   "metadata": {},
   "cell_type": "raw",
   "source": [
    "Generate n + 1 equally spaced x coordinates in (a, b). Store the coordinates\n",
    "in a list. Start with an empty list, use a for loop and append each coordinate to the list"
   ],
   "id": "ca0af84fb2e56745"
  },
  {
   "cell_type": "code",
   "id": "initial_id",
   "metadata": {
    "collapsed": true,
    "ExecuteTime": {
     "end_time": "2024-09-04T15:58:51.693963Z",
     "start_time": "2024-09-04T15:58:51.673949Z"
    }
   },
   "source": [
    "def generate_equally_spaced_x_coordinates(a, b, n):\n",
    "  \"\"\"Generates n+1 equally spaced x coordinates in the interval (a, b).\n",
    "\n",
    "  Args:\n",
    "    a: The left endpoint of the interval.\n",
    "    b: The right endpoint of the interval.\n",
    "    n: The number of points to generate (excluding the endpoints).\n",
    "\n",
    "  Returns:\n",
    "    A list of n+1 equally spaced x coordinates.\n",
    "  \"\"\"\n",
    "\n",
    "  # Calculate the step size\n",
    "  step = (b - a) / n\n",
    "\n",
    "  # Create an empty list to store the coordinates\n",
    "  coordinates = []\n",
    "\n",
    "  # Generate and append the coordinates to the list\n",
    "  for i in range(n + 1):\n",
    "    x = a + i * step\n",
    "    coordinates.append(x)\n",
    "\n",
    "  return coordinates\n",
    "\n",
    "# Example usage:\n",
    "a = 0\n",
    "b = 1\n",
    "n = 5\n",
    "x_coordinates = generate_equally_spaced_x_coordinates(a, b, n)\n",
    "print(x_coordinates)"
   ],
   "outputs": [
    {
     "name": "stdout",
     "output_type": "stream",
     "text": [
      "[0.0, 0.2, 0.4, 0.6000000000000001, 0.8, 1.0]\n"
     ]
    }
   ],
   "execution_count": 2
  },
  {
   "metadata": {},
   "cell_type": "markdown",
   "source": "Look up the expression for the nth energy level of a Hydrogen atom. Write a Python programme which calculates and prints the first 20 energy levels in a file. The first column of the file will be n and the second column will be the energy in eV",
   "id": "43de2b227f455d22"
  },
  {
   "metadata": {
    "ExecuteTime": {
     "end_time": "2024-09-04T15:58:51.739929Z",
     "start_time": "2024-09-04T15:58:51.725931Z"
    }
   },
   "cell_type": "code",
   "source": [
    "\n",
    "def energylevel(i):\n",
    "    return (-13.6/i**2)\n",
    "\n",
    "for i in range(1, 21):\n",
    "      print(\"%3d %15.2f\" %(i, energylevel(i)))"
   ],
   "id": "4e209de3b98ddce4",
   "outputs": [
    {
     "name": "stdout",
     "output_type": "stream",
     "text": [
      "  1          -13.60\n",
      "  2           -3.40\n",
      "  3           -1.51\n",
      "  4           -0.85\n",
      "  5           -0.54\n",
      "  6           -0.38\n",
      "  7           -0.28\n",
      "  8           -0.21\n",
      "  9           -0.17\n",
      " 10           -0.14\n",
      " 11           -0.11\n",
      " 12           -0.09\n",
      " 13           -0.08\n",
      " 14           -0.07\n",
      " 15           -0.06\n",
      " 16           -0.05\n",
      " 17           -0.05\n",
      " 18           -0.04\n",
      " 19           -0.04\n",
      " 20           -0.03\n"
     ]
    }
   ],
   "execution_count": 3
  },
  {
   "metadata": {},
   "cell_type": "markdown",
   "source": [
    "Write a function which evaluates the following sum i.e. it takes x and n as input and\n",
    "returns L\n"
   ],
   "id": "3a2592d9a9885c2e"
  },
  {
   "metadata": {
    "ExecuteTime": {
     "end_time": "2024-09-04T15:58:51.817937Z",
     "start_time": "2024-09-04T15:58:51.797929Z"
    }
   },
   "cell_type": "code",
   "source": [
    "def sum(x, n):\n",
    "    L = 0\n",
    "    for i in range(1, n+1):\n",
    "        L += (1/i)*(x/(1+x))**i\n",
    "    return L\n",
    "\n",
    "sum(2, 5)"
   ],
   "id": "e508a950af065d16",
   "outputs": [
    {
     "data": {
      "text/plain": [
       "1.0633744855967078"
      ]
     },
     "execution_count": 4,
     "metadata": {},
     "output_type": "execute_result"
    }
   ],
   "execution_count": 4
  },
  {
   "metadata": {
    "ExecuteTime": {
     "end_time": "2024-09-04T15:58:51.879931Z",
     "start_time": "2024-09-04T15:58:51.870938Z"
    }
   },
   "cell_type": "code",
   "source": [
    "import math\n",
    "\n",
    "def L(x, n):\n",
    "\n",
    "\n",
    "  L = 0\n",
    "  for i in range(1, n + 1):\n",
    "    L += (1 / i) * (x / (1 + x)) ** i\n",
    "  return L\n",
    "\n",
    "# Example usage:\n",
    "x = 2\n",
    "n = 5\n",
    "result = L(x, n)\n",
    "print(f\"L({x}, {n}) = {result}\")"
   ],
   "id": "deea375c26b1d66d",
   "outputs": [
    {
     "name": "stdout",
     "output_type": "stream",
     "text": [
      "L(2, 5) = 1.0633744855967078\n"
     ]
    }
   ],
   "execution_count": 5
  },
  {
   "metadata": {
    "ExecuteTime": {
     "end_time": "2024-09-04T15:58:53.289161Z",
     "start_time": "2024-09-04T15:58:52.000723Z"
    }
   },
   "cell_type": "code",
   "source": [
    "import numpy as np\n",
    "import matplotlib.pyplot as plt\n",
    "\n",
    "x = np.linspace(0, 10, 100)\n",
    "y = np.sin(x)\n",
    "y_1 = x\n",
    "y_2 = x - (x**3)/6\n",
    "y_3 = x - (x**3)/6 + (x**5)/120\n",
    "\n",
    "plt.plot(x, y)\n",
    "plt.plot(x, y_1)\n",
    "plt.plot(x, y_2)\n",
    "plt.plot(x, y_3)"
   ],
   "id": "d22f2401cda50dda",
   "outputs": [
    {
     "data": {
      "text/plain": [
       "[<matplotlib.lines.Line2D at 0x2d5aa0b5f00>]"
      ]
     },
     "execution_count": 6,
     "metadata": {},
     "output_type": "execute_result"
    },
    {
     "data": {
      "text/plain": [
       "<Figure size 640x480 with 1 Axes>"
      ],
      "image/png": "[encoded data removed]"
     },
     "metadata": {},
     "output_type": "display_data"
    }
   ],
   "execution_count": 6
  },
  {
   "metadata": {
    "ExecuteTime": {
     "end_time": "2024-09-04T15:58:53.350162Z",
     "start_time": "2024-09-04T15:58:53.323160Z"
    }
   },
   "cell_type": "code",
   "source": [
    "N = 1000\n",
    "\n",
    "X = np.random.uniform(1, 3, N)\n",
    "Y = np.random.uniform(2, 5, N)\n",
    "\n",
    "total = X + Y\n",
    "\n",
    "prob = np.mean(total < 6)\n",
    "\n",
    "prob"
   ],
   "id": "6db923cac3e25469",
   "outputs": [
    {
     "data": {
      "text/plain": [
       "0.641"
      ]
     },
     "execution_count": 7,
     "metadata": {},
     "output_type": "execute_result"
    }
   ],
   "execution_count": 7
  },
  {
   "metadata": {
    "ExecuteTime": {
     "end_time": "2024-09-04T17:46:46.320680Z",
     "start_time": "2024-09-04T17:46:46.308685Z"
    }
   },
   "cell_type": "code",
   "source": [
    "import sympy as sp\n",
    "# np.log(1+x)\n",
    "def f(k):\n",
    "    return k**3\n",
    "\n",
    "k = sp.symbols('k')\n",
    "\n",
    "\n",
    "\n",
    "\n",
    "def taylor(terms):\n",
    "    sum = 0\n",
    "    f = k**3\n",
    "    for i in range(terms):\n",
    "        for j in range(i):\n",
    "            diff = sp.diff(f, k)\n",
    "            f = diff\n",
    "            print(diff)\n",
    "    \n",
    "\n",
    "taylor(3)\n",
    "    "
   ],
   "id": "952aed329a850d56",
   "outputs": [
    {
     "name": "stdout",
     "output_type": "stream",
     "text": [
      "3*k**2\n",
      "6*k\n",
      "6\n"
     ]
    }
   ],
   "execution_count": 20
  },
  {
   "metadata": {
    "ExecuteTime": {
     "end_time": "2024-09-06T04:17:28.044807Z",
     "start_time": "2024-09-06T04:17:28.026142Z"
    }
   },
   "cell_type": "code",
   "source": [
    "import math\n",
    "\n",
    "def f(x):\n",
    "    return 0\n",
    "\n",
    "h = 0.0000001\n",
    "\n",
    "def secondDer(x):\n",
    "    ans = (f(x+h) - 2*f(x) + f(x - h))/ (h**2)\n",
    "    "
   ],
   "id": "d1a03e6039452173",
   "outputs": [],
   "execution_count": 64
  },
  {
   "metadata": {
    "ExecuteTime": {
     "end_time": "2024-09-06T04:39:15.876405Z",
     "start_time": "2024-09-06T04:39:15.864298Z"
    }
   },
   "cell_type": "code",
   "source": [
    "\n",
    "def g(t):\n",
    "        return t**(-6.0)\n",
    "def gsecondderr(x, h):\n",
    "   return (g(x+h) - (2*g(x)) + g(x - h))/ (h**2)\n",
    "\n",
    "gsecondderr(1.2, 0.1)\n"
   ],
   "id": "79d417752dbe3c62",
   "outputs": [
    {
     "data": {
      "text/plain": [
       "10.185418772601283"
      ]
     },
     "execution_count": 98,
     "metadata": {},
     "output_type": "execute_result"
    }
   ],
   "execution_count": 98
  },
  {
   "metadata": {
    "ExecuteTime": {
     "end_time": "2024-09-06T04:46:50.666568Z",
     "start_time": "2024-09-06T04:46:50.647408Z"
    }
   },
   "cell_type": "code",
   "source": [
    "\n",
    "h = 0.1\n",
    "for i in range(15):\n",
    "    print('%3.15f %10.15f' %(h, gsecondderr(1, h)))\n",
    "    h = h/10"
   ],
   "id": "55ecaa65fa3ac6ae",
   "outputs": [
    {
     "name": "stdout",
     "output_type": "stream",
     "text": [
      "0.100000000000000 44.615035321269751\n",
      "0.010000000000000 42.025209242573247\n",
      "0.001000000000000 42.000252001406224\n",
      "0.000100000000000 42.000002520303781\n",
      "0.000010000000000 41.999992372865329\n",
      "0.000001000000000 42.000847244594283\n",
      "0.000000100000000 41.944225870338393\n",
      "0.000000010000000 48.849813083506874\n",
      "0.000000001000000 -666.133814775093583\n",
      "0.000000000100000 0.000000000000000\n",
      "0.000000000010000 0.000000000000000\n",
      "0.000000000001000 -666133814.775093674659729\n",
      "0.000000000000100 66613381477.509368896484375\n",
      "0.000000000000010 0.000000000000000\n",
      "0.000000000000001 -666133814775093.875000000000000\n"
     ]
    }
   ],
   "execution_count": 100
  },
  {
   "metadata": {
    "ExecuteTime": {
     "end_time": "2024-09-06T05:16:11.595566Z",
     "start_time": "2024-09-06T05:16:11.589561Z"
    }
   },
   "cell_type": "code",
   "source": [
    "a = 16\n",
    "b = 17\n",
    "\n",
    "error = 1/(10**31)\n",
    "n = (math.log(b-a, math.e) - math.log(error, math.e))/(math.log(2, math.e))\n",
    "n = int(math.floor(n) + 1)\n",
    "print(n)"
   ],
   "id": "decaf210235cebad",
   "outputs": [
    {
     "name": "stdout",
     "output_type": "stream",
     "text": [
      "103\n"
     ]
    }
   ],
   "execution_count": 106
  }
 ],
 "metadata": {
  "kernelspec": {
   "display_name": "Python 3",
   "language": "python",
   "name": "python3"
  },
  "language_info": {
   "codemirror_mode": {
    "name": "ipython",
    "version": 2
   },
   "file_extension": ".py",
   "mimetype": "text/x-python",
   "name": "python",
   "nbconvert_exporter": "python",
   "pygments_lexer": "ipython2",
   "version": "2.7.6"
  }
 },
 "nbformat": 4,
 "nbformat_minor": 5
}
