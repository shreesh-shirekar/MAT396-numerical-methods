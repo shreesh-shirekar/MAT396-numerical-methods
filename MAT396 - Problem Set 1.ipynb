{
 "cells": [
  {
   "cell_type": "markdown",
   "metadata": {},
   "source": [
    "##### 1. Make sure that you can do the following using Python (or some other programminglanguage of your choice)"
   ]
  },
  {
   "cell_type": "markdown",
   "metadata": {},
   "source": [
    "a. For a variable, finding its data type, data type conversion e.g. int to float etc,"
   ]
  },
  {
   "cell_type": "code",
   "execution_count": 6,
   "metadata": {},
   "outputs": [
    {
     "name": "stdout",
     "output_type": "stream",
     "text": [
      "<class 'int'>\n",
      "<class 'float'>\n"
     ]
    }
   ],
   "source": [
    "x = 2\n",
    "\n",
    "print(type(x))\n",
    "\n",
    "f_x = float(x)\n",
    "\n",
    "print(type(f_x))"
   ]
  },
  {
   "cell_type": "markdown",
   "metadata": {},
   "source": [
    "b. Evaluating routine mathematical functions such as sin, sqrt, log, exp etc. (in Python, this is done by importing math module),"
   ]
  },
  {
   "cell_type": "code",
   "execution_count": 25,
   "metadata": {},
   "outputs": [
    {
     "name": "stdout",
     "output_type": "stream",
     "text": [
      "Square Root of 16:\n",
      "4.0\n",
      "-----------------------------------\n",
      "The sine of is 90 deg\n",
      "1.0\n",
      "-----------------------------------\n",
      "The natural log of e is\n",
      "1.0\n",
      "-----------------------------------\n",
      "2 to the power of e is\n",
      "7.38905609893065\n"
     ]
    }
   ],
   "source": [
    "import math\n",
    "\n",
    "# sqrt\n",
    "\n",
    "num = 16\n",
    "\n",
    "sqrt = math.sqrt(num)\n",
    "\n",
    "\n",
    "print(\"Square Root of 16:\")\n",
    "print(sqrt)\n",
    "\n",
    "\n",
    "print(\"-----------------------------------\")\n",
    "\n",
    "# sine\n",
    "\n",
    "angle = math.pi / 2\n",
    "\n",
    "sine = math.sin(angle)\n",
    "print(\"The sine of is 90 deg\")\n",
    "print(sine)\n",
    "\n",
    "print(\"-----------------------------------\")\n",
    "\n",
    "# log \n",
    "\n",
    "e_value = math.e\n",
    "\n",
    "log = math.log(e_value)\n",
    "print(\"The natural log of e is\")\n",
    "print(log)\n",
    "\n",
    "print(\"-----------------------------------\")\n",
    "# exp\n",
    "\n",
    "exponent = 2\n",
    "exp_value = math.exp(exponent)\n",
    "print(\"2 to the power of e is\")\n",
    "print(exp_value)\n"
   ]
  },
  {
   "cell_type": "markdown",
   "metadata": {},
   "source": [
    "c. Looping (in Python the use of at least while loop and for loop)"
   ]
  },
  {
   "cell_type": "code",
   "execution_count": 34,
   "metadata": {},
   "outputs": [
    {
     "name": "stdout",
     "output_type": "stream",
     "text": [
      "For loop from 1 to 5\n",
      "1\n",
      "2\n",
      "3\n",
      "4\n",
      "5\n",
      "-----------------------------------\n",
      "While loop from 1 to 5\n",
      "1\n",
      "2\n",
      "3\n",
      "4\n",
      "5\n"
     ]
    }
   ],
   "source": [
    "# for loop to print 1 through 5\n",
    "print(\"For loop from 1 to 5\")\n",
    "for i in range(1, 5 + 1):\n",
    "    print(i)\n",
    "\n",
    "print(\"-----------------------------------\")\n",
    "\n",
    "#while loop\n",
    "print(\"While loop from 1 to 5\")\n",
    "j = 1\n",
    "while True:\n",
    "    print(j)\n",
    "    j += 1\n",
    "    if j > 5:\n",
    "        break\n"
   ]
  },
  {
   "cell_type": "markdown",
   "metadata": {},
   "source": [
    "d. The use of other data types (such as lists, tuples in python, arrays in the package Numerical Python)"
   ]
  },
  {
   "cell_type": "code",
   "execution_count": null,
   "metadata": {},
   "outputs": [],
   "source": []
  }
 ],
 "metadata": {
  "kernelspec": {
   "display_name": ".venv",
   "language": "python",
   "name": "python3"
  },
  "language_info": {
   "codemirror_mode": {
    "name": "ipython",
    "version": 3
   },
   "file_extension": ".py",
   "mimetype": "text/x-python",
   "name": "python",
   "nbconvert_exporter": "python",
   "pygments_lexer": "ipython3",
   "version": "3.10.11"
  }
 },
 "nbformat": 4,
 "nbformat_minor": 2
}
